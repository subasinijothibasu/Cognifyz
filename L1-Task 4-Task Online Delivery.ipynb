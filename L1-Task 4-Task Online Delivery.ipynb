{
 "cells": [
  {
   "cell_type": "code",
   "execution_count": 1,
   "id": "8f177cdc",
   "metadata": {},
   "outputs": [
    {
     "name": "stdout",
     "output_type": "stream",
     "text": [
      "Index(['Restaurant ID', 'Restaurant Name', 'Country Code', 'City', 'Address',\n",
      "       'Locality', 'Locality Verbose', 'Longitude', 'Latitude', 'Cuisines',\n",
      "       'Average Cost for two', 'Currency', 'Has Table booking',\n",
      "       'Has Online delivery', 'Is delivering now', 'Switch to order menu',\n",
      "       'Price range', 'Aggregate rating', 'Rating color', 'Rating text',\n",
      "       'Votes'],\n",
      "      dtype='object')\n"
     ]
    }
   ],
   "source": [
    "import pandas as pd\n",
    "data=pd.read_csv(\"dataset.csv\")\n",
    "print(data.columns)"
   ]
  },
  {
   "cell_type": "markdown",
   "id": "579b08c8",
   "metadata": {},
   "source": [
    "Determine the percentage of restaurants that offer online delivery."
   ]
  },
  {
   "cell_type": "markdown",
   "id": "23bb639f",
   "metadata": {},
   "source": [
    "Compare the average ratings of restaurants with and without online delivery."
   ]
  },
  {
   "cell_type": "code",
   "execution_count": 11,
   "id": "3b508c55",
   "metadata": {},
   "outputs": [
    {
     "name": "stdout",
     "output_type": "stream",
     "text": [
      "Percentage of Restaurants with Online Delivery: 25.66 %\n",
      "Average Rating of Restaurants with Online Delivery: 3.25\n",
      "Average Rating of Restaurants without Online Delivery: 2.47\n"
     ]
    }
   ],
   "source": [
    "#Determine the percentage of restaurants that offer online delivery\n",
    "restaurants_with_delivery=data[data['Has Online delivery'] == 'Yes']\n",
    "restaurants_with_delivery_percentage=(len(restaurants_with_delivery) / len(data)) * 100\n",
    "restaurants_with_delivery_percentage=round(restaurants_with_delivery_percentage, 2)\n",
    "print(\"Percentage of Restaurants with Online Delivery:\", restaurants_with_delivery_percentage,\"%\")\n",
    "\n",
    "#Compare the average ratings of restaurants with and without online delivery\n",
    "avg_rating_with_delivery=restaurants_with_delivery['Aggregate rating'].mean()\n",
    "avg_rating_without_delivery=data[data['Has Online delivery'] == 'No']['Aggregate rating'].mean()\n",
    "\n",
    "print(\"Average Rating of Restaurants with Online Delivery:\", avg_rating_with_delivery.round(2))\n",
    "print(\"Average Rating of Restaurants without Online Delivery:\", avg_rating_without_delivery.round(2))\n"
   ]
  }
 ],
 "metadata": {
  "kernelspec": {
   "display_name": "Python 3 (ipykernel)",
   "language": "python",
   "name": "python3"
  },
  "language_info": {
   "codemirror_mode": {
    "name": "ipython",
    "version": 3
   },
   "file_extension": ".py",
   "mimetype": "text/x-python",
   "name": "python",
   "nbconvert_exporter": "python",
   "pygments_lexer": "ipython3",
   "version": "3.11.3"
  }
 },
 "nbformat": 4,
 "nbformat_minor": 5
}
