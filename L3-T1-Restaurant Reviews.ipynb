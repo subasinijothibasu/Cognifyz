{
 "cells": [
  {
   "cell_type": "markdown",
   "id": "287fe47e",
   "metadata": {},
   "source": [
    "Analyze the text reviews to identify the mostcommon positive and negative keywords."
   ]
  },
  {
   "cell_type": "code",
   "execution_count": 1,
   "id": "27941e32",
   "metadata": {},
   "outputs": [
    {
     "name": "stdout",
     "output_type": "stream",
     "text": [
      "Positive Keyword Counts: 301\n",
      "Negative Keyword Counts: 186\n",
      "\n",
      "Average Review Length: 1.3378703800649148\n",
      "Rating vs. Average Review Length:\n",
      "{4.8: 1.0, 4.5: 1.0, 4.4: 2.0, 4.9: 1.0, 4.0: 2.0, 4.2: 2.0, 4.3: 2.0, 3.6: 1.0, 4.7: 1.0, 3.0: 1.0, 3.8: 1.0, 3.7: 1.0, 3.2: 1.0, 3.1: 1.0, 0.0: 2.0, 4.1: 2.0, 3.3: 1.0, 4.6: 1.0, 3.9: 1.0, 3.4: 1.0, 3.5: 1.0, 2.2: 1.0, 2.9: 1.0, 2.4: 1.0, 2.6: 1.0, 2.8: 1.0, 2.1: 1.0, 2.7: 1.0, 2.5: 1.0, 1.8: 1.0, 2.0: 1.0, 2.3: 1.0, 1.9: 1.0}\n"
     ]
    }
   ],
   "source": [
    "import pandas as pd\n",
    "import re\n",
    "\n",
    "# Load the dataset\n",
    "data = pd.read_csv('Dataset.csv')  # Replace 'Dataset.csv' with the actual file path\n",
    "\n",
    "# Remove rows with missing values in the 'Reviews' column\n",
    "data = data.dropna(subset=['Rating text'])\n",
    "\n",
    "# Extract text reviews\n",
    "reviews = data['Rating text']\n",
    "\n",
    "# Define positive and negative keywords\n",
    "positive_keywords = ['delicious', 'excellent', 'friendl']\n",
    "negative_keywords = ['bad', 'poor', 'terrible', 'disappointing', 'awful']\n",
    "\n",
    "# Count occurrences of positive and negative keywords in all reviews\n",
    "positive_counts = 0\n",
    "negative_counts = 0\n",
    "\n",
    "for review in reviews:\n",
    "    cleaned_review = re.sub(r'[^a-zA-Z\\s]', '', review.lower())\n",
    "    words = cleaned_review.split()\n",
    "    positive_counts += sum(1 for word in words if word in positive_keywords)\n",
    "    negative_counts += sum(1 for word in words if word in negative_keywords)\n",
    "\n",
    "print(\"Positive Keyword Counts:\", positive_counts)\n",
    "print(\"Negative Keyword Counts:\", negative_counts)\n",
    "\n",
    "# Calculate the average length of reviews and explore the relationship with rating\n",
    "total_review_length = 0\n",
    "total_reviews = len(reviews)\n",
    "\n",
    "for review in reviews:\n",
    "    total_review_length += len(review.split())\n",
    "\n",
    "average_review_length = total_review_length / total_reviews\n",
    "\n",
    "print(\"\\nAverage Review Length:\", average_review_length)\n",
    "\n",
    "# Explore the relationship between review length and rating\n",
    "rating_vs_length = {}\n",
    "\n",
    "for rating in data['Aggregate rating'].unique():\n",
    "    filtered_reviews = data[data['Aggregate rating'] == rating]['Rating text']\n",
    "    total_length = 0\n",
    "    total_reviews = len(filtered_reviews)\n",
    "\n",
    "    for review in filtered_reviews:\n",
    "        total_length += len(review.split())\n",
    "\n",
    "    average_length = total_length / total_reviews\n",
    "    rating_vs_length[rating] = average_length\n",
    "\n",
    "print(\"Rating vs. Average Review Length:\")\n",
    "print(rating_vs_length)\n"
   ]
  }
 ],
 "metadata": {
  "kernelspec": {
   "display_name": "Python 3 (ipykernel)",
   "language": "python",
   "name": "python3"
  },
  "language_info": {
   "codemirror_mode": {
    "name": "ipython",
    "version": 3
   },
   "file_extension": ".py",
   "mimetype": "text/x-python",
   "name": "python",
   "nbconvert_exporter": "python",
   "pygments_lexer": "ipython3",
   "version": "3.11.3"
  }
 },
 "nbformat": 4,
 "nbformat_minor": 5
}
