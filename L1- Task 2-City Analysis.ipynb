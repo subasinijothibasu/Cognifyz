{
 "cells": [
  {
   "cell_type": "code",
   "execution_count": 3,
   "id": "f9c1c288",
   "metadata": {},
   "outputs": [
    {
     "name": "stdout",
     "output_type": "stream",
     "text": [
      "Index(['Restaurant ID', 'Restaurant Name', 'Country Code', 'City', 'Address',\n",
      "       'Locality', 'Locality Verbose', 'Longitude', 'Latitude', 'Cuisines',\n",
      "       'Average Cost for two', 'Currency', 'Has Table booking',\n",
      "       'Has Online delivery', 'Is delivering now', 'Switch to order menu',\n",
      "       'Price range', 'Aggregate rating', 'Rating color', 'Rating text',\n",
      "       'Votes'],\n",
      "      dtype='object')\n"
     ]
    }
   ],
   "source": [
    "import pandas as pd\n",
    "df=pd.read_csv('dataset.csv')\n",
    "print(data.columns)"
   ]
  },
  {
   "cell_type": "markdown",
   "id": "3febf789",
   "metadata": {},
   "source": [
    "Identify the city with the highest number\n",
    "of restaurants in the dataset."
   ]
  },
  {
   "cell_type": "code",
   "execution_count": 21,
   "id": "13a69229",
   "metadata": {},
   "outputs": [
    {
     "name": "stdout",
     "output_type": "stream",
     "text": [
      "New Delhi\n"
     ]
    }
   ],
   "source": [
    "#To get the city with the highest number of restaurants\n",
    "city_with_most_restaurants=city_counts.idxmax()\n",
    "print(city_with_most_restaurants)"
   ]
  },
  {
   "cell_type": "markdown",
   "id": "74cebe29",
   "metadata": {},
   "source": [
    "Calculate the average rating for\n",
    "restaurants in each city."
   ]
  },
  {
   "cell_type": "code",
   "execution_count": 22,
   "id": "ab4e87d2",
   "metadata": {},
   "outputs": [],
   "source": [
    "#To calculate the average rating for each city\n",
    "average_rating_by_city=df.groupby('City')['Aggregate rating'].mean()"
   ]
  },
  {
   "cell_type": "code",
   "execution_count": 17,
   "id": "434a8225",
   "metadata": {
    "scrolled": true
   },
   "outputs": [
    {
     "name": "stdout",
     "output_type": "stream",
     "text": [
      "City\n",
      "Abu Dhabi          4.300000\n",
      "Agra               3.965000\n",
      "Ahmedabad          4.161905\n",
      "Albany             3.555000\n",
      "Allahabad          3.395000\n",
      "                     ...   \n",
      "Weirton            3.900000\n",
      "Wellington City    4.250000\n",
      "Winchester Bay     3.200000\n",
      "Yorkton            3.300000\n",
      "��stanbul          4.292857\n",
      "Name: Aggregate rating, Length: 141, dtype: float64\n"
     ]
    }
   ],
   "source": [
    "#Print the average rating for each city\n",
    "print(average_rating_by_city)"
   ]
  },
  {
   "cell_type": "markdown",
   "id": "e593729e",
   "metadata": {},
   "source": [
    "Determine the city with the highest\n",
    "average rating."
   ]
  },
  {
   "cell_type": "code",
   "execution_count": 23,
   "id": "27220e92",
   "metadata": {},
   "outputs": [
    {
     "name": "stdout",
     "output_type": "stream",
     "text": [
      "The city with the highest average rating is Inner City\n"
     ]
    }
   ],
   "source": [
    "#Get the city with the highest average rating\n",
    "highest_rated_city=average_rating_by_city.idxmax()\n",
    "# Print the city with the highest average rating\n",
    "print(f\"The city with the highest average rating is {highest_rated_city}\")"
   ]
  }
 ],
 "metadata": {
  "kernelspec": {
   "display_name": "Python 3 (ipykernel)",
   "language": "python",
   "name": "python3"
  },
  "language_info": {
   "codemirror_mode": {
    "name": "ipython",
    "version": 3
   },
   "file_extension": ".py",
   "mimetype": "text/x-python",
   "name": "python",
   "nbconvert_exporter": "python",
   "pygments_lexer": "ipython3",
   "version": "3.11.3"
  }
 },
 "nbformat": 4,
 "nbformat_minor": 5
}
