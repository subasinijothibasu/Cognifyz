{
 "cells": [
  {
   "cell_type": "code",
   "execution_count": 1,
   "id": "36c25d04",
   "metadata": {},
   "outputs": [
    {
     "name": "stdout",
     "output_type": "stream",
     "text": [
      "Price Range vs Online Delivery:\n",
      "Has Online delivery        No       Yes\n",
      "Price range                            \n",
      "1                    0.842259  0.157741\n",
      "2                    0.586894  0.413106\n",
      "3                    0.708097  0.291903\n",
      "4                    0.909556  0.090444\n",
      "\n",
      "Price Range vs Table Booking:\n",
      "Has Table booking        No       Yes\n",
      "Price range                          \n",
      "1                  0.999775  0.000225\n",
      "2                  0.923225  0.076775\n",
      "3                  0.542614  0.457386\n",
      "4                  0.532423  0.467577\n"
     ]
    }
   ],
   "source": [
    "import pandas as pd\n",
    "\n",
    "# Load the dataset\n",
    "data = pd.read_csv('Dataset.csv')\n",
    "\n",
    "# Remove rows with missing values in the relevant columns\n",
    "data = data.dropna(subset=['Price range', 'Has Online delivery', 'Has Table booking'])\n",
    "\n",
    "# Analyze the relationship between price range and availability of services\n",
    "price_vs_online_delivery = data.groupby('Price range')['Has Online delivery'].value_counts(normalize=True).unstack().fillna(0)\n",
    "price_vs_table_booking = data.groupby('Price range')['Has Table booking'].value_counts(normalize=True).unstack().fillna(0)\n",
    "\n",
    "print(\"Price Range vs Online Delivery:\")\n",
    "print(price_vs_online_delivery)\n",
    "print(\"\\nPrice Range vs Table Booking:\")\n",
    "print(price_vs_table_booking)"
   ]
  },
  {
   "cell_type": "markdown",
   "id": "0e6e4504",
   "metadata": {},
   "source": [
    "Analyze if there is a relationship between the price range and the availability of onlinedelivery and table booking."
   ]
  },
  {
   "cell_type": "code",
   "execution_count": 2,
   "id": "16371fa7",
   "metadata": {},
   "outputs": [
    {
     "name": "stdout",
     "output_type": "stream",
     "text": [
      "\n",
      "Higher-Priced Restaurants vs Online Delivery:\n",
      "No     0.767302\n",
      "Yes    0.232698\n",
      "Name: Has Online delivery, dtype: float64\n",
      "\n",
      "Higher-Priced Restaurants vs Table Booking:\n",
      "No     0.539619\n",
      "Yes    0.460381\n",
      "Name: Has Table booking, dtype: float64\n"
     ]
    }
   ],
   "source": [
    "higher_priced_restaurants = data[data['Price range'] > data['Price range'].median()]\n",
    "higher_price_vs_online_delivery = higher_priced_restaurants['Has Online delivery'].value_counts(normalize=True)\n",
    "higher_price_vs_table_booking = higher_priced_restaurants['Has Table booking'].value_counts(normalize=True)\n",
    "\n",
    "print(\"\\nHigher-Priced Restaurants vs Online Delivery:\")\n",
    "print(higher_price_vs_online_delivery)\n",
    "print(\"\\nHigher-Priced Restaurants vs Table Booking:\")\n",
    "print(higher_price_vs_table_booking)"
   ]
  }
 ],
 "metadata": {
  "kernelspec": {
   "display_name": "Python 3 (ipykernel)",
   "language": "python",
   "name": "python3"
  },
  "language_info": {
   "codemirror_mode": {
    "name": "ipython",
    "version": 3
   },
   "file_extension": ".py",
   "mimetype": "text/x-python",
   "name": "python",
   "nbconvert_exporter": "python",
   "pygments_lexer": "ipython3",
   "version": "3.11.3"
  }
 },
 "nbformat": 4,
 "nbformat_minor": 5
}
