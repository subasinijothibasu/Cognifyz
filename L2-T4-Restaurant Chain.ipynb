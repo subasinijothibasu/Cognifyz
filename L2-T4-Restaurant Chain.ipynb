{
 "cells": [
  {
   "cell_type": "markdown",
   "id": "31b1b7f4",
   "metadata": {},
   "source": [
    "To Identify if there are any restaurant chains present in the dataset."
   ]
  },
  {
   "cell_type": "code",
   "execution_count": 1,
   "id": "94b6dae6",
   "metadata": {},
   "outputs": [
    {
     "name": "stdout",
     "output_type": "stream",
     "text": [
      "Restaurant Chains:\n",
      "['Cafe Coffee Day', \"Domino's Pizza\", 'Subway', 'Green Chick Chop', \"McDonald's\", 'Keventers', 'Pizza Hut', 'Giani', 'Baskin Robbins', 'Barbeque Nation', \"Giani's\", 'Barista', \"Dunkin' Donuts\", 'Costa Coffee', 'Pind Balluchi', 'Wah Ji Wah', 'Twenty Four Seven', 'Pizza Hut Delivery', 'Sagar Ratna', 'Republic of Chicken', 'KFC', 'Starbucks', 'Chaayos', 'Burger King', \"Haldiram's\", 'Shree Rathnam', 'Frontier', 'Moti Mahal Delux', 'Bikanervala', 'Aggarwal Sweets', 'Behrouz Biryani', \"Karim's\", 'Bikaner Sweets', 'Chicago Pizza', 'Apni Rasoi', '34, Chowringhee Lane', 'Wow! Momo', 'Madras Cafe', 'Burger Point', 'Gopala', 'Shama Chicken Corner', \"Berco's\", \"Nirula's Ice Cream\", 'Sardar A Pure Meat Shop', 'Yo! China', 'Cocoberry', 'Punjabi Tadka', 'Angels in my Kitchen', 'Faasos', 'Ovenstory Pizza', 'Chowringhee', 'Punjabi Chaap Corner', 'Kebab Xpress', 'Nazeer Foods', 'RollsKing', 'Tpot', 'Mocha', 'Dolce Gelato', \"Tibb's Frankie\", 'The Yellow Chilli', 'Slice of Italy', 'BTW', 'Khan Chacha', \"Chawla's�_\", 'China Town', 'Chinese Hut', 'Sanjha Chulha', 'Moti Mahal Delux Tandoori Trail', 'Mr. Sub', 'Al Bake', 'Bikaner Sweets & Restaurant', \"TGI Friday's\", 'Kings Kulfi', 'Pudding & Pie', 'Cafe Coffee Day - The Lounge', 'Southy', 'The Diet Kitchen', 'Biryani Blues', 'Goli Vada Pav No. 1', 'Punjabi Rasoi', 'The Beer Cafe', 'Wrapss', 'Mainland China', 'Farzi Cafe', 'Red Chilli', \"Nathu's Sweets\", 'Instapizza', \"Chili's\", \"Nando's\", 'Aggarwal Sweet India', 'Texas Roadhouse', 'Cake Point', 'Pita Pit', 'Chinese Corner', 'The Midnight Heroes', 'Kake Da Hotel', \"L'Opera\", 'Nukkadwala', \"Flirty Momo's\", 'Viva Hyderabad', 'Swagath', 'Sandoz', 'Punjab Grill', 'Kettle & Kegs', 'The Chinese Hut', 'Captain Grub', 'Mad Over Donuts', 'Aggarwal Sweet Corner', 'SGF - Spice Grill Flame', 'Shree Bikaner Misthan Bhandar', 'Da Pizza Corner', 'Happy Hakka', 'Hot Pot', 'Chai Garam', 'Gola Sizzlers', 'Pakwan', \"Applebee's\", 'Kathi Junction', \"Qureshi's Kabab Corner\", 'Meatwale.com', \"Jamie's Italian\", 'GoGourmet', 'The Coffee Bean & Tea Leaf', 'Sugar & Spice - Le Marche', 'The Kathis', 'Public Cafe', \"Kwality Wall's Swirl's\", 'Chaska', 'Bun Intended', 'Pirates of Grill', 'South Indian Hut', \"DCK- Dana Choga's Kitchen\", 'Gelato Vinto', 'Jungle Jamboree', 'Bawarchi', 'Deez Biryani & Kebabs', 'Chai Point', 'Hong Kong Express', \"Nirula's\", 'Aapki Rasoi', 'Burger Xpress', 'Rainbows', 'Mx Corn', \"Colonel's Kababz\", 'Punjabi Zaika', 'FreshMenu', \"Chawla's 2\", 'Open Oven', 'Tea Villa Cafe', 'Puri Bakers', \"Nizam's Kathi Kabab\", 'Zaika', \"AB's - Absolute Barbecues\", 'Nite Bites', \"Punjabi's Veg Grill\", 'Momo-Cha', 'Super Cake Shop', 'Big Chill', 'Movenpick', 'Mamagoto', \"Kanwarji's\", 'Big Yellow Door', 'Foodies', 'Doughlicious', 'Zizo', 'Onesta', 'Chimney', 'Aggarwal Bikaner Sweets', 'Zaffran', 'Foodhall', 'Just Vada Pav', 'Roll Club', 'Amici Cafe', 'Chinese Food Corner', 'Kerala Cafe', 'Wok On Fire', 'Bats On Delivery', 'Amul Ice-Cream Parlour', 'Cafe Delhi Heights', 'Bharat Sweets', \"Chawla's Chic Inn\", 'Tikka Town', 'Talaga Sampireun', 'Bikkgane Biryani', 'Shawarma Wala', 'True Blue', 'Punjabi Dhaba', 'Food Plaza', 'Chinese Food', 'SodaBottleOpenerWala', 'Breaktym', 'Defence Bakery', 'Muradabadi Shahi Biryani & Chicken Corner', 'Tikka Junction', 'Aggarwal Sweets India', 'Not Just Paranthas', 'Krispy Kreme', 'HuHot Mongolian Grill', 'Hard Rock Cafe', 'Goosebumps', 'Street Foods by Punjab Grill', 'Habibi Express', 'Joost Juice Bar', 'Desi Vibes', \"La Pino'z Pizza\", 'The Chai Story', 'Wah G Wah', 'Hira Sweets', 'Hasty Tasty', 'Shahenshah', 'Midnight Hunger Hub', 'Riyaz Biryani Corner', 'Polka Pastry & Snack Bar', 'Changezi Chicken', 'Aggarwal Sweet Centre', 'Urban Punjab', 'Side Wok', 'Havmor Ice Cream', \"The Fisherman's Wharf\", 'Cafe Turtle', 'Chaophraya', 'Sri Balaji', \"Chawla's Tandoori Junction\", 'Palmshore', 'Rollmaal', 'Speedy Chow', 'Om Sweets & Snacks', 'Taco Bell', 'Food Scouts', 'New Madras Cafe', 'Cakes & Bakes', 'Sushiya Express', \"KB's Kulfi & Icecream\", 'Bunty Dhaba', 'Flying Cakes', 'Baked Buns', 'Mitra Da Dhaba', 'Mr. Brown', 'Veg Ex', 'BarShala', 'Tea Halt', '221 B Baker Street', 'The Golden Dragon', 'Burger Singh', 'Finger Licious', 'Pizza Hub', 'The Chaiwalas', 'Jaiveer Naan & Chaap', 'Punjab Restaurant', 'Captain Bill$ Deliverz', 'Health Buzzz', 'Little Chef', 'Punjabi Pakwaan', 'Biryani By Kilo', \"QD's Restaurant\", \"Hangchuaa's Chinese Food Corner\", 'Indian Coffee House', 'Dilli Darbar', 'Niti Shake & Ice Cream Hub', 'Saravana Bhavan', 'Bake N Shake', 'Gazebo', 'Pizza Station', 'D�_ner Grill', 'Naivedyam', 'Radha Swami Shudh Vaishno Dhaba', 'Druk', 'Qureshi Kabab Corner', 'Da Pizza Zone', 'The Cheesecake Factory', 'Raj Restaurant', 'The Night Owl', \"Bikaner's\", 'Papa Veg Chinese Food', 'Khan Chicken Biryani', 'Bikaner Sweets & Bakers', 'Metro Dhaba', 'Naturals Ice Cream', 'Zaika Kathi Rolls', 'Flavours', 'Spanish Delights', \"Hunger's Hub\", 'Relax Xpress', 'The Barbeque Company', 'Dosa Plaza', 'Whipped', 'Night Munchers', 'Khalsa Veg Corner', 'Mr. Momo', 'Hot Cherries', 'Wild Chef House', 'MR.D - Deliciousness Delivered', 'Royal Spice', 'The Great Kabab Factory', 'Ceviche Tapas Bar & Restaurant', 'Fresh Meat CO', 'Brown Town', 'Moksha', 'Big Biryani', 'Bon Bon Pastry Shop', \"Mother's Kitchen\", 'Golden Bakery', \"Mom's Kitchen\", 'New Punjabi Khana', 'Oh Buoy', 'Americana Kitchen and Bar', \"Carl's Jr.\", 'Hungry - I', 'Al Zaika', 'SpiceKlub', 'Delhi Club House', 'Pebble Street', 'Biryani Express', 'Kati Roll Cottage', 'Stop My Starvation', 'Midnight Hunger', 'Kulcha King', 'Beijing Street', 'Nazeer Delicacies', 'Singz', 'Pho King Awesome', 'Anupam Sweets', 'Baba Chicken Ludhiana Wale', \"AB's Absolute Barbecues\", 'Rolling Beans', 'The Culinary Pitaara', 'Garam Dharam', 'Chinese Fast Food', 'The China Town', 'Aggarwal Sweets Centre', 'Embassy', 'New Kadimi', 'Caffe Tonino', 'Pandit Ji Ki Apni Rasoi', 'Shree Durga Dosa', 'Sagar Dhaba', 'Angeethi', 'Basil Tree', 'China Hot Pot', \"Punjabee's Darbar\", 'Khana Khazana', 'Natural Ice Cream', 'Jyoti Sweets', 'New Town Cafe - Park Plaza', 'Biryani Vice', 'Riyaz Chicken Corner', \"Oberoi's\", 'Jahangeer Foods', 'Green Restaurant', 'Momos House', 'Miam', 'Delight Express', 'China Hut', 'Hawkers', 'Crazy Noodles', 'South Cafe', 'Zaaika Junction', 'Le Chef', \"WTF - World's Tastiest Food\", 'Biryani Art', 'Moon Bite', 'Gupta Chat Corner', 'Pizza King', 'Pastry Palace', 'Tipu Sultan', 'All About Food', 'Snack Shack', 'Cafe Brown Sugar', 'The Pirates Of China Town', 'Arabian Delites', 'Kake Di Hatti', 'Burgrill', 'Chilli Tadka', 'Ashoka Restaurant', 'Cafe Coffee Day The Square', 'Delhi Chaat Bhandar', 'Ashok Meat Wala', 'Juice Lounge', 'Shamji Sweets', 'Fluffles - The Fluffy Waffle Co.', 'Ram Chinese Food', 'Chawnsan Chef', 'Reena Restaurant', 'Invitation', \"Soya Bite's\", 'Choco Kraft', 'Bakingo', 'Gulab', 'Garam Masala', 'Anand Sweets', 'Singh Chicken', \"Baker's Stop\", 'Raj Rasoi', 'Grover Sweets', 'Dev Food', 'Konetto Pizza', 'Dunkin Donuts', 'Perfect Bake', 'Blue Tokai Coffee Roasters', '34 Parkstreet Lane', 'Pandey Chinese Hut', 'Rajdhani Restaurant', 'Maggi Point', 'The Taste', 'Flavours Kitchen', 'Suruchi', 'The Chocolate Room', 'Aap Ki Khatir', 'Roti Aur Boti', 'Imperfecto', 'Firangi Bake', 'Out Of The Box', 'Hungry Minister', 'Biryani Bot', 'Black Pepper', \"Hurry's Paratha\", 'Yomo-Your Only Momo Outlet', 'Jain Restaurant', 'Dilli Light', 'Burger Joint', 'Hot Stuff', 'Paradise', 'Dilli BC', 'Sumo Sushi', 'Bakers Oven', 'Punjabi By Nature', 'Mogambo Kitchen', 'Sbarro', 'Paramjeet Machi Wala', 'Kake Da Dhaba', 'La Americana', 'Mithaas', 'Biryaniwala', 'Kesarwa Bakez', 'Nutritious Nation', 'Bake Walkers', 'Green Valley Chinese Food', 'Chinese Hot', 'Mithaas Sweets', 'The Cake Shop', 'China Garden', 'Kumar Pastry Shop', 'Twisted Tacos', 'Hwealthcafe', 'Whatslife.in', 'Chutneez Restaurant Lounge & Bar', \"Kamal's\", 'Shake Square', 'Pasta Hub', \"Chawla's Tandoori Xpress\", 'Caffe 9', 'The Roll Van', 'Truffles', 'Lasha Chinese Food', 'Baker Street', 'Hot & Spicy', 'Koyla Kebab', 'Adyar Ananda Bhavan', '10 Downing Street', 'Matchbox', 'Tamura', 'Smoke House Deli', 'Fit Bites', 'Manohar Dairy And Restaurant', 'Bombay Brasserie', 'Flavors Of London', 'Frozen Factory', 'Bhappe Di Hatti', 'Desi Tadka', 'Kanha Sweets', 'Teddy Boy', 'KC Bakers', 'Nawabi Mughlai Zaika', 'The Flying Saucer Cafe', 'Mysore Cafe', 'The Tandoor', 'The Junkyard Cafe', 'Bikaner Misthan Bhandar', 'Gupta Ji Ka Dhaba', 'Gung The Palace', 'Bhoj Restaurant', 'The Kitchen', 'Dezertfox', '4700BC Popcorn', 'Underdoggs Sports Bar & Grill', 'San Carlo', 'Bikano Chat Cafe', 'Bengal Sweet Corner', 'Amritsari Dhaba', 'Metro Fast Food', \"Shawarma King's\", \"Nagpal's\", 'Pizza Day', 'Shankar Fast Food', 'Chinese King', 'Chao Cart', 'The Mirch Masala', 'Anjlika Pastry Shop', 'Wai Yu Mun Ching', \"Chili's Grill & Bar\", '6 Pack Momos', 'Spooky Sky', 'Night Food Xprs', 'BonJuz', 'Weird Time Food', 'Twigly', 'The Artful Baker', 'Amar Bakery', 'Perch Wine & Coffee Bar', 'Liquid', 'Dishoom', 'Granite City Food & Brewery', 'Taste of India', 'Magic Masala', 'Gymkhana', 'High On Burgers', \"Harry's Bar + Cafe\", 'The Blue Tandoor', 'Eggers Madhouse', 'D Food', 'Asian Haus', 'Sonya Bakery Cafe', 'Bikaner Kesarvala', 'Sibang Bakery', \"Bhimsain's Bengali Sweet House\", 'Made In Punjab', 'Bijoli Grill', 'Chai Thela', 'Balaji Dhaba', 'Aggarwal Sweets & Restaurant', \"Wendy's\", 'Madras Dosa & Chinese', \"Sethi's The Cake Shop\", 'Mitthu Tikki Wala', 'Paapi Paet', 'Manohar Bikkaneri', 'Smaaash', 'A Piece of Paris', 'Cones & Curries', 'Urban Dhaba', 'Mahi Rasoi', 'Munch Nation', 'Sadda Adda', 'The Chatter House', 'Crudo Juicery', \"VadaPav 'n' Frankie\", 'The Breakfast Club', 'Oberoi Biryani', 'Wheelyz', 'Yadav Sweets', 'Los Agaves', 'Drool Waffles', 'Hornbill', 'The Cafe', 'Wagh Bakri Tea Lounge', 'Chalte Firte Momos & Special Foods', \"Ammu's South Indian Restaurant\", 'Nooba', 'Fish Streat', 'The Big Chill Cakery', 'Pizza Diet', 'Madras Coffee House', 'Garota de Ipanema', 'Barbeque Ville', 'Little Italy', 'Kebab Gali', 'Murliwala Bakers', 'Litti.In', 'Baking Bad', 'Tandoori Junction', 'First Eat', \"Cafe Buddy's\", 'Coldpress Company', 'Say Cheese', 'ZASTY', 'Pizza Yum', 'JSB Evergreen Snack & Sweets', 'Fast Trax', 'Clever Fox Cafe', \"Joey's Pizza\", 'Grillz', 'Coco Bambu', 'Timboo Cafe', 'Nanking', 'Habibi', 'Din Tai Fung', 'Cinnabon', 'Silantro Fil-Mex', 'EDC Mania', 'Drifters Cafe', 'Haldiram Bhujiawala', 'D�_vero��lu', 'The Mad Teapot/The Wishing Chair', 'Spice Route', 'The Bake Studio', 'Puja Sandwich House', 'OCD - Online Cake Delivery', 'Muffins', 'Rasoi - The Indian Zaika', 'Vadapav Junction', 'Super Snacks', 'Green Chilli', 'Roll Corner', 'Bobby Tikki Wala', 'Dabba Meat', 'Crust N Cakes', 'Chennai Express', 'Fresh n Refresh', 'Garden Hut', 'Mellow Mushroom', \"Rhinehart's Oyster Bar\", 'Cake 24x7', 'Bake Club', 'Royale Bakers', 'South Indian Corner', 'Fabulous Cake Bites', 'Chaap Point', 'The National', 'Syall Kotian Da Dhaba', 'Rajshree', 'Go Kylin', \"Aggarwal's Sweets Paradise\", 'Burger Hut', 'Lazeez Restaurant', 'Madhuvan Chinese Fast Food', 'Chick-fil-A', 'Cook Du Kdu', 'Theos', 'Ghar Ka Khana', 'Food Express', 'Mirchievous', 'Rasoi', 'Bikaner Rasoi', 'Alaturka', 'Kitchen King', 'Big Fat Sandwich', 'Red Mango', 'Food Factory', 'Hunger Strike', \"Kamboj's\", 'Tandoori Tadka', 'Cake Palace', 'Hot Joint Fast Food', 'Hyderabad House', 'Ichiban', 'Aggarwal Bikaneri Sweets', 'Papa Buns', 'Adarsh Kulfi', 'Punjabi Chicken', 'Evergreen Sweets', 'bu��no', 'Ankur Family Restaurant', 'Effingut Brewerkz', 'Comesum', 'Aggarwal Sweet & Bakers', 'Brijwasi Restaurant', 'Street Cafe', 'Shyam Sweets', 'Chawla Family Restaurant', 'Country Curries', \"Faaso's\", 'Green Leaf', 'The Crab Shack', 'Vaishno Punjabi Dhaba', 'Vaishno Rasoi', 'Dilli Rasoi', 'Cafe Diva', 'Ramesh Vaishno Dhaba', 'Yumm Biryani', 'Essen Foods', 'Chai Mantra', 'Pasta Hut', \"Senorita's\", 'Caff�� La Poya', 'South Indian Cafe', 'Chawlas 2', 'Tea Trails', 'Laxmi Ice Cream', 'Organic Express', 'Yo! Dimsum', \"Jack Po!tato's\", 'The Chef', 'Patiala Shahi', 'Sandwich King', 'Special Chicken Biryani', 'The Belgian Fries Company', 'Wood Box Cafe', 'Shalimar Vyanjan', 'Arabian Nites', 'Moti Mahal Delux- Legendary Culinary', 'The Square Meal', 'Night Food Delivery', \"Mr. Baker's\", 'Aureo Dine & Bake House', 'Kaveri Restaurant And Caterers', 'U Like', 'New Zaika', 'Big Wong XL', \"Gullu's\", 'Kolkata Kathi Roll', 'Italiano', 'Kolkata Hot Kathi Roll', \"Zooby's Kitchen\", 'Hotel Malabar', 'Dana Pani', 'Big Dragon', 'Standard Sweets', 'Kolkata Biryani House', 'Circus', 'Pitstop', 'The Big Scoop', 'Imly', 'Prince Chaat Corner', \"Chawla's\", 'Khidmat', 'The Creamery', 'Shri Ram Restaurant', 'Chauhan Hotel', 'Au Bon Pain', \"Let's Noodle\", \"Fat Lulu's\", 'Oh! Calcutta', 'Otik Cake Shop', 'Olive Bistro', 'Raasta', 'The Pint Room', 'Snacks Point', 'The Dosa King', 'Chokola', 'Town Hall', 'Halki Aanch', 'Snack Junction', 'Delhi Biryani Hut', 'Beliram Degchiwala']\n"
     ]
    }
   ],
   "source": [
    "import pandas as pd\n",
    "\n",
    "# Load the dataset\n",
    "data=pd.read_csv('Dataset.csv')\n",
    "\n",
    "# Remove rows with missing values in the 'Restaurant Name' column\n",
    "data=data.dropna(subset=['Restaurant Name'])\n",
    "\n",
    "# Find the counts of each restaurant name\n",
    "restaurant_counts=data['Restaurant Name'].value_counts()\n",
    "\n",
    "# Identify restaurant chains (with multiple branches)\n",
    "restaurant_chains=restaurant_counts[restaurant_counts > 1].index.tolist()\n",
    "\n",
    "print(\"Restaurant Chains:\")\n",
    "print(restaurant_chains)"
   ]
  },
  {
   "cell_type": "markdown",
   "id": "28653ab4",
   "metadata": {},
   "source": [
    "To Analyze the ratings and popularity of different restaurant chains"
   ]
  },
  {
   "cell_type": "code",
   "execution_count": 2,
   "id": "c5bd3891",
   "metadata": {},
   "outputs": [
    {
     "name": "stdout",
     "output_type": "stream",
     "text": [
      "\n",
      "Restaurant Chain Ratings and Popularity:\n",
      "                                 Average Rating  Total Votes\n",
      "Restaurant Name                                             \n",
      "Talaga Sampireun                          4.900         5514\n",
      "Silantro Fil-Mex                          4.850         1364\n",
      "AB's Absolute Barbecues                   4.850         3151\n",
      "AB's - Absolute Barbecues                 4.825        13400\n",
      "Naturals Ice Cream                        4.800         3094\n",
      "...                                         ...          ...\n",
      "Big Biryani                               0.000            1\n",
      "Flavours Kitchen                          0.000            3\n",
      "Anand Sweets                              0.000            3\n",
      "Radha Swami Shudh Vaishno Dhaba           0.000            6\n",
      "OCD - Online Cake Delivery                0.000            2\n",
      "\n",
      "[734 rows x 2 columns]\n"
     ]
    }
   ],
   "source": [
    "# Filter data for restaurant chains only\n",
    "chain_data=data[data['Restaurant Name'].isin(restaurant_chains)]\n",
    "\n",
    "# Calculate average ratings and popularity (total votes) for each chain\n",
    "chain_avg_ratings=chain_data.groupby('Restaurant Name')['Aggregate rating'].mean()\n",
    "chain_total_votes=chain_data.groupby('Restaurant Name')['Votes'].sum()\n",
    "\n",
    "# Combine the calculated data into a single DataFrame\n",
    "chain_info=pd.DataFrame({'Average Rating': chain_avg_ratings, 'Total Votes': chain_total_votes})\n",
    "\n",
    "# Sort the DataFrame by Average Rating\n",
    "chain_info=chain_info.sort_values(by='Average Rating', ascending=False)\n",
    "\n",
    "print(\"\\nRestaurant Chain Ratings and Popularity:\")\n",
    "print(chain_info)"
   ]
  }
 ],
 "metadata": {
  "kernelspec": {
   "display_name": "Python 3 (ipykernel)",
   "language": "python",
   "name": "python3"
  },
  "language_info": {
   "codemirror_mode": {
    "name": "ipython",
    "version": 3
   },
   "file_extension": ".py",
   "mimetype": "text/x-python",
   "name": "python",
   "nbconvert_exporter": "python",
   "pygments_lexer": "ipython3",
   "version": "3.11.3"
  }
 },
 "nbformat": 4,
 "nbformat_minor": 5
}
