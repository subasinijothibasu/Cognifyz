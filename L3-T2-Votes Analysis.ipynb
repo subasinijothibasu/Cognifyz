{
 "cells": [
  {
   "cell_type": "markdown",
   "id": "a17f0bc9",
   "metadata": {},
   "source": [
    "Identify the restaurants with the highest and\n",
    "lowest number of votes."
   ]
  },
  {
   "cell_type": "code",
   "execution_count": 1,
   "id": "4326a169",
   "metadata": {},
   "outputs": [
    {
     "name": "stdout",
     "output_type": "stream",
     "text": [
      "Restaurant with Highest Votes: Toit\n",
      "Restaurant with Lowest Votes: Cantinho da Gula\n"
     ]
    }
   ],
   "source": [
    "import pandas as pd\n",
    "\n",
    "# Load the dataset\n",
    "data=pd.read_csv('Dataset.csv')\n",
    "\n",
    "# Remove rows with missing values in the 'Votes' column\n",
    "data=data.dropna(subset=['Votes'])\n",
    "\n",
    "# Identify the restaurants with the highest and lowest number of votes\n",
    "restaurant_with_highest_votes = data[data['Votes'] == data['Votes'].max()]['Restaurant Name'].values[0]\n",
    "restaurant_with_lowest_votes = data[data['Votes'] == data['Votes'].min()]['Restaurant Name'].values[0]\n",
    "\n",
    "print(\"Restaurant with Highest Votes:\", restaurant_with_highest_votes)\n",
    "print(\"Restaurant with Lowest Votes:\", restaurant_with_lowest_votes)"
   ]
  },
  {
   "cell_type": "markdown",
   "id": "b85bde9f",
   "metadata": {},
   "source": [
    "Analyze if there is a correlation between the\n",
    "number of votes and the rating of a\n",
    "restaurant."
   ]
  },
  {
   "cell_type": "code",
   "execution_count": 2,
   "id": "8dd55753",
   "metadata": {},
   "outputs": [
    {
     "name": "stdout",
     "output_type": "stream",
     "text": [
      "\n",
      "Correlation between Votes and Rating: 0.31\n"
     ]
    }
   ],
   "source": [
    "correlation = data['Votes'].corr(data['Aggregate rating'])\n",
    "\n",
    "print(\"\\nCorrelation between Votes and Rating:\", correlation.round(2))"
   ]
  }
 ],
 "metadata": {
  "kernelspec": {
   "display_name": "Python 3 (ipykernel)",
   "language": "python",
   "name": "python3"
  },
  "language_info": {
   "codemirror_mode": {
    "name": "ipython",
    "version": 3
   },
   "file_extension": ".py",
   "mimetype": "text/x-python",
   "name": "python",
   "nbconvert_exporter": "python",
   "pygments_lexer": "ipython3",
   "version": "3.11.3"
  }
 },
 "nbformat": 4,
 "nbformat_minor": 5
}
